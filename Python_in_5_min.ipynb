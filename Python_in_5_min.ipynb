{
  "nbformat": 4,
  "nbformat_minor": 0,
  "metadata": {
    "colab": {
      "name": "Python-in-5-min.ipynb",
      "provenance": [],
      "collapsed_sections": []
    },
    "kernelspec": {
      "name": "python3",
      "display_name": "Python 3"
    }
  },
  "cells": [
    {
      "cell_type": "markdown",
      "metadata": {
        "id": "hLkXWHonHzLK",
        "colab_type": "text"
      },
      "source": [
        "#Python in 5 minutes "
      ]
    },
    {
      "cell_type": "markdown",
      "metadata": {
        "id": "1h7EagUxH5nB",
        "colab_type": "text"
      },
      "source": [
        "## define variables "
      ]
    },
    {
      "cell_type": "code",
      "metadata": {
        "id": "74AgiqY3HvfM",
        "colab_type": "code",
        "colab": {}
      },
      "source": [
        "x = 10 \n",
        "y = 3.5\n",
        "z = 'abc'"
      ],
      "execution_count": 0,
      "outputs": []
    },
    {
      "cell_type": "code",
      "metadata": {
        "id": "CotRozo5IEqC",
        "colab_type": "code",
        "colab": {
          "base_uri": "https://localhost:8080/",
          "height": 35
        },
        "outputId": "8608701d-7729-4b72-9234-bf7d0ef2d5bb"
      },
      "source": [
        "print(x,y,z)"
      ],
      "execution_count": 2,
      "outputs": [
        {
          "output_type": "stream",
          "text": [
            "10 3.5 abc\n"
          ],
          "name": "stdout"
        }
      ]
    },
    {
      "cell_type": "code",
      "metadata": {
        "id": "3fvIsLV6IHTu",
        "colab_type": "code",
        "colab": {
          "base_uri": "https://localhost:8080/",
          "height": 35
        },
        "outputId": "c09436a1-f6fd-4568-8f86-c930e01729ce"
      },
      "source": [
        "print(type(x), type(y), type(z))"
      ],
      "execution_count": 3,
      "outputs": [
        {
          "output_type": "stream",
          "text": [
            "<class 'int'> <class 'float'> <class 'str'>\n"
          ],
          "name": "stdout"
        }
      ]
    },
    {
      "cell_type": "markdown",
      "metadata": {
        "id": "Sfh702gbIQhd",
        "colab_type": "text"
      },
      "source": [
        "## comments "
      ]
    },
    {
      "cell_type": "code",
      "metadata": {
        "id": "Lu69IudMIP4l",
        "colab_type": "code",
        "colab": {
          "base_uri": "https://localhost:8080/",
          "height": 35
        },
        "outputId": "82cadfa0-bbc4-42c0-fd43-45af7aaed020"
      },
      "source": [
        "# this is a comment (one line)\n",
        "\n",
        "'''\n",
        "this is \n",
        "multiline \n",
        "comment\n",
        "'''\n",
        "print('hello')"
      ],
      "execution_count": 4,
      "outputs": [
        {
          "output_type": "stream",
          "text": [
            "hello\n"
          ],
          "name": "stdout"
        }
      ]
    },
    {
      "cell_type": "markdown",
      "metadata": {
        "id": "7NWQZqC2Iiiu",
        "colab_type": "text"
      },
      "source": [
        "## Lists in Python "
      ]
    },
    {
      "cell_type": "code",
      "metadata": {
        "id": "Ng1uSIXzIlUi",
        "colab_type": "code",
        "colab": {}
      },
      "source": [
        "numbers = [1, 2, 3]\n",
        "things = [1, 4.6, 'abc']"
      ],
      "execution_count": 0,
      "outputs": []
    },
    {
      "cell_type": "code",
      "metadata": {
        "id": "k0foWvrGNOiM",
        "colab_type": "code",
        "colab": {
          "base_uri": "https://localhost:8080/",
          "height": 35
        },
        "outputId": "e068e000-2e63-4b23-899d-e1597bbbb2a3"
      },
      "source": [
        "numbers[1]"
      ],
      "execution_count": 6,
      "outputs": [
        {
          "output_type": "execute_result",
          "data": {
            "text/plain": [
              "2"
            ]
          },
          "metadata": {
            "tags": []
          },
          "execution_count": 6
        }
      ]
    },
    {
      "cell_type": "code",
      "metadata": {
        "id": "dwDly-NGNSlk",
        "colab_type": "code",
        "colab": {
          "base_uri": "https://localhost:8080/",
          "height": 35
        },
        "outputId": "05987c80-aeed-4c49-91cd-434a91ac2864"
      },
      "source": [
        "things[2]"
      ],
      "execution_count": 7,
      "outputs": [
        {
          "output_type": "execute_result",
          "data": {
            "text/plain": [
              "'abc'"
            ]
          },
          "metadata": {
            "tags": []
          },
          "execution_count": 7
        }
      ]
    },
    {
      "cell_type": "markdown",
      "metadata": {
        "id": "JBuOoQ_PNXv_",
        "colab_type": "text"
      },
      "source": [
        "## Tuple (immutable list)"
      ]
    },
    {
      "cell_type": "code",
      "metadata": {
        "id": "VPGbR46GNdWe",
        "colab_type": "code",
        "colab": {}
      },
      "source": [
        "point = (2, 3)"
      ],
      "execution_count": 0,
      "outputs": []
    },
    {
      "cell_type": "code",
      "metadata": {
        "id": "iPur8lXPNh2a",
        "colab_type": "code",
        "colab": {
          "base_uri": "https://localhost:8080/",
          "height": 35
        },
        "outputId": "5c87ed4f-015d-44f1-d938-0e22b41dd077"
      },
      "source": [
        "point[0]"
      ],
      "execution_count": 9,
      "outputs": [
        {
          "output_type": "execute_result",
          "data": {
            "text/plain": [
              "2"
            ]
          },
          "metadata": {
            "tags": []
          },
          "execution_count": 9
        }
      ]
    },
    {
      "cell_type": "markdown",
      "metadata": {
        "id": "07v6coPYNkT8",
        "colab_type": "text"
      },
      "source": [
        "## Dictionary "
      ]
    },
    {
      "cell_type": "code",
      "metadata": {
        "id": "mY-A_aLRNpCV",
        "colab_type": "code",
        "colab": {}
      },
      "source": [
        "bag = {'pen': 3, 'tissues': 10, 'candy': 3, 'book': 1}"
      ],
      "execution_count": 0,
      "outputs": []
    },
    {
      "cell_type": "code",
      "metadata": {
        "id": "g1Zd60xIOHnB",
        "colab_type": "code",
        "colab": {
          "base_uri": "https://localhost:8080/",
          "height": 35
        },
        "outputId": "78eafd65-1eb3-4257-d9c0-3559b5e5d172"
      },
      "source": [
        "bag['book']"
      ],
      "execution_count": 11,
      "outputs": [
        {
          "output_type": "execute_result",
          "data": {
            "text/plain": [
              "1"
            ]
          },
          "metadata": {
            "tags": []
          },
          "execution_count": 11
        }
      ]
    },
    {
      "cell_type": "code",
      "metadata": {
        "id": "T-CSMzx7OKC6",
        "colab_type": "code",
        "colab": {
          "base_uri": "https://localhost:8080/",
          "height": 35
        },
        "outputId": "8fc8a01e-b2a2-4827-cde6-12071eeff56c"
      },
      "source": [
        "bag['candy']"
      ],
      "execution_count": 12,
      "outputs": [
        {
          "output_type": "execute_result",
          "data": {
            "text/plain": [
              "3"
            ]
          },
          "metadata": {
            "tags": []
          },
          "execution_count": 12
        }
      ]
    },
    {
      "cell_type": "markdown",
      "metadata": {
        "id": "dwD6YO7OOO7C",
        "colab_type": "text"
      },
      "source": [
        "## loops and decisions "
      ]
    },
    {
      "cell_type": "code",
      "metadata": {
        "id": "0s9GkY6SOSSl",
        "colab_type": "code",
        "colab": {
          "base_uri": "https://localhost:8080/",
          "height": 35
        },
        "outputId": "0e2b2a64-6f7f-4c52-895b-1ca58aad3810"
      },
      "source": [
        "range(5)"
      ],
      "execution_count": 13,
      "outputs": [
        {
          "output_type": "execute_result",
          "data": {
            "text/plain": [
              "range(0, 5)"
            ]
          },
          "metadata": {
            "tags": []
          },
          "execution_count": 13
        }
      ]
    },
    {
      "cell_type": "code",
      "metadata": {
        "id": "W_LlTf1GOUdD",
        "colab_type": "code",
        "colab": {
          "base_uri": "https://localhost:8080/",
          "height": 35
        },
        "outputId": "150b0240-d878-468a-967b-8999a9faf753"
      },
      "source": [
        "list(range(5))"
      ],
      "execution_count": 14,
      "outputs": [
        {
          "output_type": "execute_result",
          "data": {
            "text/plain": [
              "[0, 1, 2, 3, 4]"
            ]
          },
          "metadata": {
            "tags": []
          },
          "execution_count": 14
        }
      ]
    },
    {
      "cell_type": "code",
      "metadata": {
        "id": "xYtW71EXOYiZ",
        "colab_type": "code",
        "colab": {
          "base_uri": "https://localhost:8080/",
          "height": 106
        },
        "outputId": "2b41fbba-c56b-4d10-ebb0-5c78806494aa"
      },
      "source": [
        "for i in range(5):\n",
        "  print(i)"
      ],
      "execution_count": 15,
      "outputs": [
        {
          "output_type": "stream",
          "text": [
            "0\n",
            "1\n",
            "2\n",
            "3\n",
            "4\n"
          ],
          "name": "stdout"
        }
      ]
    },
    {
      "cell_type": "code",
      "metadata": {
        "id": "aj-JcvYgOpWX",
        "colab_type": "code",
        "colab": {
          "base_uri": "https://localhost:8080/",
          "height": 35
        },
        "outputId": "ac16cff8-b3d8-4e11-ea90-16c162115173"
      },
      "source": [
        "print(things)"
      ],
      "execution_count": 16,
      "outputs": [
        {
          "output_type": "stream",
          "text": [
            "[1, 4.6, 'abc']\n"
          ],
          "name": "stdout"
        }
      ]
    },
    {
      "cell_type": "code",
      "metadata": {
        "id": "7J64UEHhOdTU",
        "colab_type": "code",
        "colab": {
          "base_uri": "https://localhost:8080/",
          "height": 71
        },
        "outputId": "4defa61b-6ca0-4ab0-e9de-e69ccc9c0c18"
      },
      "source": [
        "for thing in things:\n",
        "  print(thing)"
      ],
      "execution_count": 17,
      "outputs": [
        {
          "output_type": "stream",
          "text": [
            "1\n",
            "4.6\n",
            "abc\n"
          ],
          "name": "stdout"
        }
      ]
    },
    {
      "cell_type": "code",
      "metadata": {
        "id": "3u-ZT0DdOsVl",
        "colab_type": "code",
        "colab": {
          "base_uri": "https://localhost:8080/",
          "height": 35
        },
        "outputId": "3596f3b7-22c8-4740-c48e-fb52e200048e"
      },
      "source": [
        "import random \n",
        "#Generate 10 random numbers between -100 and 100\n",
        "random_list = random.sample(range(-100, 100), 10)\n",
        "print(random_list)"
      ],
      "execution_count": 18,
      "outputs": [
        {
          "output_type": "stream",
          "text": [
            "[92, 37, -34, -27, 69, -76, -19, 48, 13, 62]\n"
          ],
          "name": "stdout"
        }
      ]
    },
    {
      "cell_type": "code",
      "metadata": {
        "id": "KhleV-aFSh-R",
        "colab_type": "code",
        "colab": {
          "base_uri": "https://localhost:8080/",
          "height": 124
        },
        "outputId": "19a40e42-005a-43da-a6e0-3fdc46fc7a38"
      },
      "source": [
        "for number in random_list:\n",
        "  if number > 0:\n",
        "    print(number)"
      ],
      "execution_count": 19,
      "outputs": [
        {
          "output_type": "stream",
          "text": [
            "92\n",
            "37\n",
            "69\n",
            "48\n",
            "13\n",
            "62\n"
          ],
          "name": "stdout"
        }
      ]
    },
    {
      "cell_type": "markdown",
      "metadata": {
        "id": "f27IVPZcSuYC",
        "colab_type": "text"
      },
      "source": [
        "## Classes and objects "
      ]
    },
    {
      "cell_type": "markdown",
      "metadata": {
        "id": "OVLosXigT2ZG",
        "colab_type": "text"
      },
      "source": [
        "### Rectangle class "
      ]
    },
    {
      "cell_type": "code",
      "metadata": {
        "id": "BfavPXuEStja",
        "colab_type": "code",
        "colab": {}
      },
      "source": [
        "class Rectangle:\n",
        "  def __init__(self, length, width):\n",
        "      self.length = length\n",
        "      self.width = width\n",
        "\n",
        "  def area(self):\n",
        "      return self.length * self.width\n",
        "\n",
        "  def perimeter(self):\n",
        "      return 2 * (self.length + self.width) \n",
        "  def __str__(self):\n",
        "    return 'length: {} \\t width:{}'.format(self.length, self.width)\n"
      ],
      "execution_count": 0,
      "outputs": []
    },
    {
      "cell_type": "code",
      "metadata": {
        "id": "DqILtLNCTwYd",
        "colab_type": "code",
        "colab": {
          "base_uri": "https://localhost:8080/",
          "height": 35
        },
        "outputId": "0cd80663-18af-4f26-fbb4-14da722bc4f1"
      },
      "source": [
        "r1 = Rectangle(3,4) # rectangle\n",
        "print(r1)"
      ],
      "execution_count": 21,
      "outputs": [
        {
          "output_type": "stream",
          "text": [
            "length: 3 \t width:4\n"
          ],
          "name": "stdout"
        }
      ]
    },
    {
      "cell_type": "markdown",
      "metadata": {
        "id": "ngs7MFwTT58x",
        "colab_type": "text"
      },
      "source": [
        "### Square class "
      ]
    },
    {
      "cell_type": "code",
      "metadata": {
        "id": "UtL4YXg3UC_b",
        "colab_type": "code",
        "colab": {
          "base_uri": "https://localhost:8080/",
          "height": 35
        },
        "outputId": "ee3e4348-bf30-4b8f-c228-71caf1715afc"
      },
      "source": [
        "#  Here we declare that the Square class inherits from the Rectangle class\n",
        "class Square(Rectangle):\n",
        "    def __init__(self, x):\n",
        "        super().__init__(x, x)\n",
        "        \n",
        "s2 = Square(3)\n",
        "print(s2)"
      ],
      "execution_count": 22,
      "outputs": [
        {
          "output_type": "stream",
          "text": [
            "length: 3 \t width:3\n"
          ],
          "name": "stdout"
        }
      ]
    }
  ]
}